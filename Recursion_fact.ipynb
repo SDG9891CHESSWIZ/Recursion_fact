{
  "nbformat": 4,
  "nbformat_minor": 0,
  "metadata": {
    "colab": {
      "provenance": []
    },
    "kernelspec": {
      "name": "python3",
      "display_name": "Python 3"
    },
    "language_info": {
      "name": "python"
    }
  },
  "cells": [
    {
      "cell_type": "code",
      "execution_count": 21,
      "metadata": {
        "colab": {
          "base_uri": "https://localhost:8080/"
        },
        "id": "NWF9-5QcFTLL",
        "outputId": "e801ec8f-1e0d-4eea-ca38-c58c91948a56"
      },
      "outputs": [
        {
          "output_type": "stream",
          "name": "stdout",
          "text": [
            "The value of n is :- 5\n",
            "The factorial for 5 is 120\n"
          ]
        }
      ],
      "source": [
        "#Factorial Using Recursion\n",
        "\n",
        "def fact(n):\n",
        "  if (n==0 or n==1):\n",
        "    return 1\n",
        "  else:\n",
        "    return n * fact (n-1)\n",
        "\n",
        "n = int(input(\"The value of n is :- \"))\n",
        "Ans = fact(n)\n",
        "print(f\"The factorial for {n} is {Ans}\")"
      ]
    }
  ]
}